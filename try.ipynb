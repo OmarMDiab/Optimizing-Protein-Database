{
 "cells": [
  {
   "cell_type": "code",
   "execution_count": 2,
   "metadata": {},
   "outputs": [],
   "source": [
    "import numpy as np"
   ]
  },
  {
   "cell_type": "code",
   "execution_count": 5,
   "metadata": {},
   "outputs": [],
   "source": [
    "utf8_repr = {\n",
    "    \"A\": 0b01000001,\n",
    "    \"C\": 0b01000011,\n",
    "    \"T\": 0b01010100,\n",
    "    \"G\": 0b01000111\n",
    "}\n",
    "\n",
    "def encode_dna_bin(bin_seq: np.ndarray):\n",
    "    # split the sequence into 8-bit chunks\n",
    "    chunks = np.array(np.split(bin_seq, bin_seq.size // 8), dtype=object)\n",
    "    return chunks"
   ]
  },
  {
   "cell_type": "code",
   "execution_count": 37,
   "metadata": {},
   "outputs": [],
   "source": [
    "def get_binary_repr(seq: str):\n",
    "    seq = np.array([utf8_repr[c] for c in seq], dtype=np.uint8)\n",
    "\n",
    "    # each element is an 8-bit integer, so we need to convert it to a binary string\n",
    "    binary_repr = np.array([np.binary_repr(i, width=8) for i in seq], dtype=object)\n",
    "\n",
    "    # convert the binary string to a numpy array of integers\n",
    "    binary_repr = np.array([[int(c) for c in s] for s in binary_repr], dtype=np.uint8)\n",
    "\n",
    "    return binary_repr"
   ]
  },
  {
   "cell_type": "code",
   "execution_count": 39,
   "metadata": {},
   "outputs": [
    {
     "data": {
      "text/plain": [
       "array([[0, 1, 0, 0, 0, 0, 0, 1],\n",
       "       [0, 1, 0, 0, 0, 0, 1, 1],\n",
       "       [0, 1, 0, 1, 0, 1, 0, 0],\n",
       "       [0, 1, 0, 0, 0, 1, 1, 1]], dtype=uint8)"
      ]
     },
     "execution_count": 39,
     "metadata": {},
     "output_type": "execute_result"
    }
   ],
   "source": [
    "get_binary_repr(\"ACTG\")"
   ]
  },
  {
   "cell_type": "code",
   "execution_count": 38,
   "metadata": {},
   "outputs": [
    {
     "name": "stdout",
     "output_type": "stream",
     "text": [
      "[[0 1 0 0 0 0 0 1]\n",
      " [0 1 0 0 0 0 1 1]\n",
      " [0 1 0 0 0 1 1 1]]\n"
     ]
    }
   ],
   "source": [
    "# \"ACG\" -> [0b01000001, 0b01000011, 0b01000111]\n",
    "\n",
    "print(get_binary_repr(\"ACG\"))\n",
    "seq = 0b010000010100001101000011\n",
    "seq_str = format(seq, 'b')\n",
    "\n",
    "if len(seq_str) % 8 != 0:\n",
    "    seq_str = \"0\" * (8 - len(seq_str) % 8) + seq_str\n",
    "\n",
    "bin_seq = np.array([int(x) for x in str(seq_str)])\n",
    "\n",
    "chunks = encode_dna_bin(bin_seq)"
   ]
  },
  {
   "cell_type": "code",
   "execution_count": null,
   "metadata": {},
   "outputs": [],
   "source": []
  }
 ],
 "metadata": {
  "kernelspec": {
   "display_name": "Python 3 (ipykernel)",
   "language": "python",
   "name": "python3"
  },
  "language_info": {
   "codemirror_mode": {
    "name": "ipython",
    "version": 3
   },
   "file_extension": ".py",
   "mimetype": "text/x-python",
   "name": "python",
   "nbconvert_exporter": "python",
   "pygments_lexer": "ipython3",
   "version": "3.9.6"
  }
 },
 "nbformat": 4,
 "nbformat_minor": 2
}
